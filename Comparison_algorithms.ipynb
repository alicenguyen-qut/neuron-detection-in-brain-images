{
 "cells": [
  {
   "cell_type": "markdown",
   "metadata": {},
   "source": [
    "### 1. Import libraries and define base class/ functions"
   ]
  },
  {
   "cell_type": "code",
   "execution_count": 8,
   "metadata": {},
   "outputs": [],
   "source": [
    "import numpy as np\n",
    "import pandas as pd\n",
    "import cv2\n",
    "import matplotlib.pyplot as plt\n",
    "%matplotlib inline \n",
    "from PIL import ImageChops\n",
    "from skimage import io, color\n",
    "import ast\n",
    "import os\n",
    "from PIL import Image\n",
    "import glob\n",
    "import ast"
   ]
  },
  {
   "cell_type": "code",
   "execution_count": 9,
   "metadata": {},
   "outputs": [],
   "source": [
    "def convert_tif_into_png(directory,path):\n",
    "    '''\n",
    "    Function to convert .tif into .png files.\n",
    "    Input: directory/path of .tif images\n",
    "    Output: .png images\n",
    "    '''\n",
    "    c=1\n",
    "    for filename in os.listdir(directory):\n",
    "\n",
    "        if filename.endswith(\".tif\"):\n",
    "            name=os.path.splitext(filename)[0]\n",
    "            im = Image.open(path+filename)\n",
    "            name=name+'-raw.png'\n",
    "            rgb_im = im.convert('RGB')\n",
    "            rgb_im.save(name)\n",
    "            c+=1\n",
    "            print(os.path.join(directory, filename))\n",
    "            continue\n",
    "        else:\n",
    "            continue\n",
    "            \n",
    "# my_directory= '/Users/TramNguyen/Downloads/IFN705/CUBIC-Annotated/Compare_label/Masktif'\n",
    "# my_path='Compare_label/Masktif/'\n",
    "#convert_tif_into_png(my_directory,my_path)"
   ]
  },
  {
   "cell_type": "code",
   "execution_count": 10,
   "metadata": {},
   "outputs": [],
   "source": [
    "def convert_into_bw(image):\n",
    "    '''\n",
    "    Function to convert masks into binary \n",
    "    with the confidence threshold 99%.\n",
    "    \n",
    "    Input: annotated image in RGB\n",
    "    Output: binary mask\n",
    "    '''\n",
    "    img_grey=color.rgb2gray(image)\n",
    "    thresh = 0.99\n",
    "    img_bw = cv2.threshold(img_grey, thresh, 1, cv2.THRESH_BINARY)[1]\n",
    "    return img_bw"
   ]
  },
  {
   "cell_type": "code",
   "execution_count": 11,
   "metadata": {},
   "outputs": [],
   "source": [
    "# Program to count cells in boolean 2D matrix\n",
    "# using DFS -  Reference: https://www.geeksforgeeks.org/find-number-of-islands/\n",
    "\n",
    "class Graph:\n",
    "    '''\n",
    "    This class is to implement Depth First Search on pixels that are detected to be the neuron.\n",
    "    Then connected pixels are grouped into one neuron.\n",
    "    After that, count the number of neurons in the image.\n",
    "    '''\n",
    " \n",
    "    def __init__(self, row, col, g):\n",
    "        '''\n",
    "        Initialize objects\n",
    "        '''\n",
    "        self.ROW = row\n",
    "        self.COL = col\n",
    "        self.graph = g\n",
    " \n",
    "\n",
    "    def isSafe(self, i, j, visited,list_i=[],list_j=[]):\n",
    "        '''\n",
    "        This function is to check if a given cell (row, col) can be included in DFS\n",
    "        '''\n",
    "        # row number is in range, column number\n",
    "        # is in range and value is 1\n",
    "        # and not yet visited\n",
    "        return (i >= 0 and i < self.ROW and\n",
    "                j >= 0 and j < self.COL and\n",
    "                not visited[i][j] and self.graph[i][j])\n",
    "             \n",
    "        \n",
    "    def DFS(self, i, j, visited, maxi, maxj,mini,minj):\n",
    "        '''\n",
    "        A utility function to do DFS for a 2D boolean matrix. \n",
    "        It only considers the 8 neighbours as adjacent vertices\n",
    "        '''\n",
    "        \n",
    "        # These arrays are used to get row and\n",
    "        # column numbers of 8 neighbours\n",
    "        # of a given cell\n",
    "        rowNbr = [-1, -1, -1,  0, 0,  1, 1, 1];\n",
    "        colNbr = [-1,  0,  1, -1, 1, -1, 0, 1];\n",
    "         \n",
    "        # Mark this cell as visited\n",
    "        visited[i][j] = True\n",
    "\n",
    "        currentmaxi = maxi\n",
    "        currentmaxj = maxj\n",
    "        currentmini = mini\n",
    "        currentminj = minj\n",
    "\n",
    "        # Recur for all connected neighbours\n",
    "        for k in range(8):\n",
    "            nexti = i + rowNbr[k]\n",
    "            nextj = j + colNbr[k]\n",
    "            if self.isSafe(nexti, nextj, visited):\n",
    "                nextmaxi,nextmaxj,nextmini,nextminj = self.DFS(nexti, nextj, visited, max(currentmaxi, nexti),max(currentmaxj, nextj), min(currentmini, nexti),min(currentminj, nextj))\n",
    "                currentmaxi = max(currentmaxi,nextmaxi)\n",
    "                currentmaxj = max(currentmaxj,nextmaxj)\n",
    "                currentmini = min(currentmini,nextmini)\n",
    "                currentminj = min(currentminj,nextminj)\n",
    "    \n",
    "        return currentmaxi, currentmaxj,currentmini,currentminj\n",
    "        \n",
    " \n",
    "    \n",
    "    def countCells(self):\n",
    "        '''\n",
    "        This function is to return the count of cells in a given boolean 2D matrix\n",
    "        '''\n",
    "        # Make a bool array to mark visited cells.\n",
    "        # Initially all cells are unvisited\n",
    "        visited = [[False for j in range(self.COL)]for i in range(self.ROW)]\n",
    " \n",
    "        # Initialize count as 0 and travese\n",
    "        # through the all cells of\n",
    "        # given matrix\n",
    "        count = 0\n",
    "        centroids=[]\n",
    "\n",
    "        for i in range(self.ROW):\n",
    "            for j in range(self.COL):\n",
    "                # If a cell with value 1 is not visited yet,\n",
    "                # then new island found\n",
    "                if visited[i][j] == False and self.graph[i][j] == 1:\n",
    "                    # Visit all cells in this island\n",
    "                    # and increment island count\n",
    "                    \n",
    "                    maxi,maxj,mini,minj=self.DFS(i, j, visited,i,j,i,j)\n",
    "                    cent_x=round((maxi+mini)/2)\n",
    "                    cent_y=round((maxj+minj)/2)\n",
    "                    count += 1\n",
    "                    centroids.append((cent_x,cent_y))\n",
    "        return count, centroids"
   ]
  },
  {
   "cell_type": "code",
   "execution_count": 12,
   "metadata": {},
   "outputs": [],
   "source": [
    "# stable marriage algorithms to compare human and machine annotations\n",
    "# the function is encapsulated  for the convenience of use \n",
    "\n",
    "def stable_pairs(img_1,img_2):  \n",
    "    '''\n",
    "    Input: \n",
    "        img_1 is mask labelled by hand\n",
    "        img_2 is mask by the model\n",
    "    Output: return the matched pairs, and the accuracy metrics\n",
    "    '''\n",
    "    a_img=cv2.imread(img_1)\n",
    "    b_img=cv2.imread(img_2)\n",
    "    img_raw=convert_into_bw(a_img)\n",
    "    img_pre=convert_into_bw(b_img)\n",
    "    graph_raw=Graph(len(img_raw), len(img_raw[0]), img_raw)\n",
    "    graph_pre=Graph(len(img_pre), len(img_pre[0]), img_pre)\n",
    "    A=graph_raw.countCells()[1]\n",
    "    B=graph_pre.countCells()[1]\n",
    "    len_human_label=((graph_raw.countCells()[0]))\n",
    "    len_machine_label=((graph_pre.countCells()[0]))\n",
    "    lenA= len_human_label\n",
    "    lenB= len_machine_label\n",
    "  \n",
    "    \n",
    "    def make_NxN_arrays(array1,array2):    \n",
    "        '''\n",
    "        This function is to make the length of 2 arrays equal to each other by adding pseudo points.\n",
    "        Input: 2 given arrays\n",
    "        Output: 2 new arrays whose lengths are equal.\n",
    "        '''\n",
    "        if len(array1)>len(array2):\n",
    "            i = len(array1)-len(array2)\n",
    "            for x in range (0,i):\n",
    "                array2.insert(len(array1),(10000+x,10000+x))\n",
    "                x=x+1\n",
    "        elif len(array1)<len(array2):\n",
    "            i = len(array2)-len(array1)\n",
    "            for x in range (0,i):\n",
    "                array1.insert(len(array2),(10000+x,10000+x))\n",
    "                x=x+1\n",
    "        return array1, array2\n",
    "\n",
    "\n",
    "    def convert_into_string(list_tuple):\n",
    "        '''\n",
    "        This function is to convert list in to string\n",
    "        '''\n",
    "        res = []\n",
    "        for i in list_tuple:\n",
    "            res.append(str(i))\n",
    "        return res\n",
    "\n",
    "    \n",
    "    def distance_a_to_b(a, b):\n",
    "        '''\n",
    "        This function is to calculate the distance between 2 points, applying Euclidean distance\n",
    "        '''\n",
    "        return ((a[0] - b[0])**2 + (a[1] - b[1])**2) ** 0.5\n",
    "\n",
    "\n",
    "    def match(a):\n",
    "        '''\n",
    "        This function is to apply stable marriage problem algorithm to match pairs in 2 arrays\n",
    "        '''\n",
    "        for b in A_map[a]:\n",
    "            paired_values = [pair for pair in stable_pairs if b in pair]\n",
    "            #print(\"PV: \", paired_values)\n",
    "            if (len(paired_values) == 0):\n",
    "                stable_pairs.append([a, b])\n",
    "                free_a.remove(a)\n",
    "                break\n",
    "\n",
    "            elif (len(paired_values) > 0):\n",
    "                current_a = B_map[b].index(paired_values[0][0])\n",
    "                next_a = B_map[b].index(a)\n",
    "                if (current_a >= next_a):\n",
    "                    free_a.remove(a)\n",
    "                    free_a.append(paired_values[0][0])\n",
    "                    paired_values[0][0] = a\n",
    "                    break   \n",
    "        return stable_pairs\n",
    "\n",
    "\n",
    "    def check_distance(pairs, threshold):\n",
    "        '''\n",
    "        This function is to return the list of pairs which satisfy the distance limit.\n",
    "        Use threshold parameter to set the distance. For example, threshold= 8 means that 8 pixels away. \n",
    "        '''\n",
    "        list_of_pairs=[]\n",
    "        for pair in pairs:\n",
    "            dist=((pair[0][0] - pair[1][0])**2 + (pair[0][1] - pair[1][1])**2) ** 0.5\n",
    "            if dist<= threshold:\n",
    "                list_of_pairs.append(pair)\n",
    "        return list_of_pairs\n",
    "\n",
    "                \n",
    "    def convert_into_tuple(string_array):\n",
    "    #convert tuple into string\n",
    "        tuple_ = []\n",
    "        for index, tuple in enumerate(string_array):\n",
    "            element_one = tuple[0]\n",
    "            element_one=ast.literal_eval(element_one)\n",
    "            element_two = tuple[1]\n",
    "            element_two=ast.literal_eval(element_two)\n",
    "            tuple_.append([element_one,element_two])\n",
    "        return tuple_\n",
    "\n",
    "\n",
    "    A,B=make_NxN_arrays(A,B)\n",
    "    N = len(A)\n",
    "    A_map = {}\n",
    "    B_map = {}\n",
    "    for i in range(0, N):\n",
    "        a = str(A[i])\n",
    "        b = str(B[i])\n",
    "        A_map[a] = convert_into_string(sorted(B, key=lambda e: distance_a_to_b(e, A[i])))\n",
    "        B_map[b] = convert_into_string(sorted(A, key=lambda e: distance_a_to_b(e, B[i])))\n",
    "\n",
    "    stable_pairs = []\n",
    "    free_a = []\n",
    "\n",
    "    for a in A_map.keys():\n",
    "        free_a.append(a)\n",
    "\n",
    "    while(len(free_a) > 0):\n",
    "        for a in free_a:\n",
    "            sp=match(a)\n",
    "    pairs=convert_into_tuple(sp)\n",
    "    thres=8\n",
    "    final_pairs=check_distance(pairs, thres)\n",
    "    count=len(final_pairs)\n",
    "    match_percentage=(len(final_pairs)/lenA)*100\n",
    "    human_label=A\n",
    "    machine_label=B\n",
    "   \n",
    "    TP=count\n",
    "    FP=abs(count-len_machine_label)\n",
    "    FN=abs(count-len_human_label)\n",
    "    precision=TP/(TP+FP)*100\n",
    "    recall=TP/(TP+FN)*100\n",
    "    \n",
    "    \n",
    "    return final_pairs,count, match_percentage,  human_label,  machine_label, len_human_label, len_machine_label, precision, recall"
   ]
  },
  {
   "cell_type": "markdown",
   "metadata": {},
   "source": [
    "### Implement on the data"
   ]
  },
  {
   "cell_type": "code",
   "execution_count": 13,
   "metadata": {},
   "outputs": [],
   "source": [
    "raw_masks_dir='Compare_label/raw_mask_png/'\n",
    "predicted_masks_dir='Compare_label/predicted_masks/'\n",
    "file_ids = [x.rsplit('.',1)[0] for x in os.listdir(predicted_masks_dir)]\n",
    "file_ids.remove(\"\")\n",
    "raw_masks=[(os.path.join(raw_masks_dir, x)) for x in [s + '-raw.png' for s in file_ids]]\n",
    "predicted_masks=[(os.path.join(predicted_masks_dir, x)) for x in [s + '.png' for s in file_ids]]"
   ]
  },
  {
   "cell_type": "code",
   "execution_count": 14,
   "metadata": {},
   "outputs": [
    {
     "data": {
      "text/plain": [
       "['Compare_label/raw_mask_png/6-mask-raw.png',\n",
       " 'Compare_label/raw_mask_png/7-mask-raw.png',\n",
       " 'Compare_label/raw_mask_png/20-mask-raw.png',\n",
       " 'Compare_label/raw_mask_png/14-mask-raw.png',\n",
       " 'Compare_label/raw_mask_png/15-mask-raw.png',\n",
       " 'Compare_label/raw_mask_png/1-mask-raw.png',\n",
       " 'Compare_label/raw_mask_png/19-mask-raw.png',\n",
       " 'Compare_label/raw_mask_png/18-mask-raw.png',\n",
       " 'Compare_label/raw_mask_png/13-mask-raw.png',\n",
       " 'Compare_label/raw_mask_png/12-mask-raw.png',\n",
       " 'Compare_label/raw_mask_png/17-mask-raw.png',\n",
       " 'Compare_label/raw_mask_png/16-mask-raw.png',\n",
       " 'Compare_label/raw_mask_png/4-mask-raw.png',\n",
       " 'Compare_label/raw_mask_png/10-mask-raw.png',\n",
       " 'Compare_label/raw_mask_png/11-mask-raw.png',\n",
       " 'Compare_label/raw_mask_png/8-mask-raw.png',\n",
       " 'Compare_label/raw_mask_png/9-mask-raw.png',\n",
       " 'Compare_label/raw_mask_png/2-mask-raw.png',\n",
       " 'Compare_label/raw_mask_png/3-mask-raw.png']"
      ]
     },
     "execution_count": 14,
     "metadata": {},
     "output_type": "execute_result"
    }
   ],
   "source": [
    "raw_masks\n"
   ]
  },
  {
   "cell_type": "code",
   "execution_count": 15,
   "metadata": {
    "scrolled": true
   },
   "outputs": [
    {
     "data": {
      "text/plain": [
       "['Compare_label/predicted_masks/6-mask.png',\n",
       " 'Compare_label/predicted_masks/7-mask.png',\n",
       " 'Compare_label/predicted_masks/20-mask.png',\n",
       " 'Compare_label/predicted_masks/14-mask.png',\n",
       " 'Compare_label/predicted_masks/15-mask.png',\n",
       " 'Compare_label/predicted_masks/1-mask.png',\n",
       " 'Compare_label/predicted_masks/19-mask.png',\n",
       " 'Compare_label/predicted_masks/18-mask.png',\n",
       " 'Compare_label/predicted_masks/13-mask.png',\n",
       " 'Compare_label/predicted_masks/12-mask.png',\n",
       " 'Compare_label/predicted_masks/17-mask.png',\n",
       " 'Compare_label/predicted_masks/16-mask.png',\n",
       " 'Compare_label/predicted_masks/4-mask.png',\n",
       " 'Compare_label/predicted_masks/10-mask.png',\n",
       " 'Compare_label/predicted_masks/11-mask.png',\n",
       " 'Compare_label/predicted_masks/8-mask.png',\n",
       " 'Compare_label/predicted_masks/9-mask.png',\n",
       " 'Compare_label/predicted_masks/2-mask.png',\n",
       " 'Compare_label/predicted_masks/3-mask.png']"
      ]
     },
     "execution_count": 15,
     "metadata": {},
     "output_type": "execute_result"
    }
   ],
   "source": [
    "predicted_masks"
   ]
  },
  {
   "cell_type": "code",
   "execution_count": 16,
   "metadata": {
    "scrolled": false
   },
   "outputs": [
    {
     "name": "stdout",
     "output_type": "stream",
     "text": [
      "************************************************\n",
      "COMPARE Compare_label/raw_mask_png/6-mask-raw.png  AND Compare_label/predicted_masks/6-mask.png\n",
      "The number of matched pair is  48  which accounts for  82.75862068965517  percent of accuracy.\n",
      "Precision:  51.06382978723404 . Recall:  82.75862068965517\n",
      "Matched pairs are: \n",
      "[[(181, 388), (181, 388)], [(262, 316), (262, 316)], [(279, 337), (278, 338)], [(317, 279), (318, 280)], [(326, 274), (326, 274)], [(341, 313), (341, 312)], [(344, 282), (344, 282)], [(360, 264), (360, 264)], [(378, 648), (378, 648)], [(411, 685), (411, 686)], [(486, 725), (486, 726)], [(493, 724), (492, 724)], [(502, 394), (501, 394)], [(510, 734), (510, 734)], [(522, 380), (522, 382)], [(534, 368), (534, 368)], [(538, 363), (539, 363)], [(536, 379), (538, 380)], [(543, 360), (543, 360)], [(547, 363), (547, 363)], [(548, 372), (548, 372)], [(552, 384), (552, 384)], [(553, 362), (553, 362)], [(556, 730), (556, 730)], [(557, 383), (557, 383)], [(561, 354), (560, 354)], [(563, 367), (563, 367)], [(568, 364), (568, 364)], [(551, 735), (550, 735)], [(541, 730), (540, 730)], [(451, 705), (450, 706)], [(247, 541), (247, 541)], [(362, 271), (362, 270)], [(376, 252), (376, 253)], [(499, 189), (499, 190)], [(514, 389), (514, 389)], [(553, 353), (552, 354)], [(557, 376), (557, 377)], [(563, 362), (563, 362)], [(625, 179), (625, 179)], [(540, 381), (543, 383)], [(539, 365), (544, 368)], [(563, 373), (564, 373)], [(264, 545), (264, 545)], [(559, 364), (559, 364)], [(546, 382), (546, 382)], [(554, 365), (554, 365)], [(524, 377), (524, 376)]]\n",
      "************************************************\n",
      "COMPARE Compare_label/raw_mask_png/7-mask-raw.png  AND Compare_label/predicted_masks/7-mask.png\n",
      "The number of matched pair is  31  which accounts for  86.11111111111111  percent of accuracy.\n",
      "Precision:  55.35714285714286 . Recall:  86.11111111111111\n",
      "Matched pairs are: \n",
      "[[(230, 648), (230, 648)], [(480, 172), (480, 172)], [(588, 665), (588, 665)], [(603, 668), (603, 668)], [(606, 673), (606, 673)], [(611, 771), (611, 771)], [(613, 673), (610, 666)], [(624, 660), (623, 660)], [(622, 780), (622, 780)], [(626, 307), (626, 307)], [(631, 658), (630, 658)], [(632, 641), (633, 641)], [(641, 285), (642, 285)], [(652, 304), (652, 306)], [(657, 302), (658, 302)], [(659, 312), (658, 312)], [(638, 644), (638, 644)], [(623, 657), (623, 656)], [(606, 666), (606, 666)], [(625, 645), (624, 646)], [(614, 648), (614, 648)], [(598, 646), (599, 647)], [(610, 646), (611, 646)], [(631, 272), (631, 272)], [(653, 290), (653, 290)], [(656, 299), (655, 298)], [(533, 161), (532, 161)], [(612, 642), (612, 642)], [(642, 304), (642, 304)], [(977, 266), (977, 266)], [(622, 279), (622, 279)]]\n",
      "************************************************\n",
      "COMPARE Compare_label/raw_mask_png/20-mask-raw.png  AND Compare_label/predicted_masks/20-mask.png\n",
      "The number of matched pair is  53  which accounts for  67.94871794871796  percent of accuracy.\n",
      "Precision:  48.18181818181818 . Recall:  67.94871794871796\n",
      "Matched pairs are: \n",
      "[[(134, 419), (134, 419)], [(139, 624), (138, 624)], [(147, 576), (146, 576)], [(151, 477), (152, 477)], [(155, 582), (155, 582)], [(168, 390), (168, 390)], [(168, 397), (168, 397)], [(204, 386), (203, 386)], [(197, 373), (198, 374)], [(214, 373), (214, 373)], [(228, 372), (228, 372)], [(236, 386), (236, 386)], [(269, 374), (270, 374)], [(285, 378), (285, 378)], [(291, 364), (292, 364)], [(293, 358), (292, 358)], [(296, 402), (296, 402)], [(317, 367), (317, 367)], [(312, 350), (312, 350)], [(316, 346), (316, 346)], [(328, 350), (328, 350)], [(339, 343), (338, 342)], [(350, 344), (351, 344)], [(357, 341), (357, 340)], [(442, 295), (442, 294)], [(491, 620), (491, 620)], [(500, 646), (501, 646)], [(507, 284), (508, 284)], [(524, 645), (520, 642)], [(541, 658), (541, 658)], [(560, 808), (560, 808)], [(562, 658), (561, 656)], [(570, 274), (570, 274)], [(507, 806), (506, 806)], [(182, 391), (182, 391)], [(149, 569), (148, 568)], [(155, 610), (155, 610)], [(210, 366), (211, 367)], [(236, 359), (236, 359)], [(269, 378), (269, 378)], [(288, 371), (285, 372)], [(311, 357), (318, 359)], [(328, 372), (328, 372)], [(446, 292), (446, 292)], [(506, 641), (506, 641)], [(539, 648), (538, 648)], [(350, 336), (351, 336)], [(142, 621), (142, 621)], [(398, 311), (398, 312)], [(244, 356), (244, 356)], [(542, 650), (542, 650)], [(310, 347), (310, 347)], [(502, 646), (501, 640)]]\n",
      "************************************************\n",
      "COMPARE Compare_label/raw_mask_png/14-mask-raw.png  AND Compare_label/predicted_masks/14-mask.png\n",
      "The number of matched pair is  7  which accounts for  70.0  percent of accuracy.\n",
      "Precision:  77.77777777777779 . Recall:  70.0\n",
      "Matched pairs are: \n",
      "[[(186, 689), (186, 690)], [(194, 690), (194, 690)], [(261, 647), (260, 646)], [(496, 812), (496, 812)], [(540, 256), (540, 256)], [(194, 682), (194, 682)], [(548, 253), (548, 253)]]\n",
      "************************************************\n",
      "COMPARE Compare_label/raw_mask_png/15-mask-raw.png  AND Compare_label/predicted_masks/15-mask.png\n",
      "The number of matched pair is  39  which accounts for  72.22222222222221  percent of accuracy.\n",
      "Precision:  53.42465753424658 . Recall:  72.22222222222221\n",
      "Matched pairs are: \n",
      "[[(144, 424), (144, 424)], [(167, 372), (167, 372)], [(158, 396), (158, 396)], [(234, 281), (233, 281)], [(260, 642), (260, 642)], [(267, 633), (266, 633)], [(279, 232), (279, 232)], [(295, 690), (295, 690)], [(311, 692), (307, 686)], [(321, 703), (318, 705)], [(330, 731), (330, 730)], [(366, 532), (366, 532)], [(456, 785), (453, 778)], [(469, 198), (469, 198)], [(481, 204), (480, 204)], [(505, 787), (507, 794)], [(507, 783), (508, 782)], [(518, 788), (518, 788)], [(539, 659), (539, 660)], [(574, 182), (574, 182)], [(597, 184), (597, 184)], [(612, 328), (612, 328)], [(620, 328), (620, 328)], [(626, 311), (625, 312)], [(477, 782), (477, 782)], [(534, 656), (532, 656)], [(588, 297), (588, 297)], [(217, 527), (217, 526)], [(261, 638), (261, 638)], [(260, 250), (260, 250)], [(499, 266), (499, 266)], [(505, 266), (505, 266)], [(590, 328), (590, 328)], [(619, 306), (619, 306)], [(632, 318), (632, 318)], [(460, 706), (460, 706)], [(322, 707), (322, 707)], [(361, 722), (361, 722)], [(604, 328), (604, 328)]]\n",
      "************************************************\n",
      "COMPARE Compare_label/raw_mask_png/1-mask-raw.png  AND Compare_label/predicted_masks/1-mask.png\n",
      "The number of matched pair is  160  which accounts for  57.34767025089605  percent of accuracy.\n",
      "Precision:  75.11737089201877 . Recall:  57.34767025089605\n",
      "Matched pairs are: \n",
      "[[(120, 399), (120, 399)], [(144, 440), (143, 441)], [(133, 401), (132, 400)], [(151, 646), (151, 646)], [(148, 448), (147, 449)], [(162, 646), (162, 646)], [(174, 657), (173, 657)], [(156, 591), (156, 590)], [(186, 470), (186, 470)], [(191, 635), (191, 635)], [(190, 628), (190, 628)], [(239, 674), (239, 674)], [(222, 351), (222, 351)], [(206, 643), (206, 643)], [(213, 554), (214, 554)], [(228, 498), (228, 498)], [(312, 737), (312, 737)], [(243, 416), (243, 416)], [(257, 315), (256, 315)], [(264, 485), (264, 485)], [(261, 332), (254, 334)], [(260, 378), (260, 378)], [(280, 634), (280, 634)], [(275, 586), (275, 586)], [(278, 420), (278, 421)], [(286, 492), (286, 492)], [(284, 606), (284, 605)], [(286, 435), (286, 435)], [(286, 596), (286, 596)], [(286, 314), (286, 314)], [(290, 414), (290, 414)], [(305, 299), (306, 299)], [(295, 389), (294, 389)], [(299, 411), (298, 410)], [(301, 619), (301, 619)], [(307, 642), (307, 642)], [(308, 616), (308, 616)], [(305, 353), (304, 352)], [(319, 409), (319, 409)], [(310, 372), (310, 372)], [(310, 308), (310, 308)], [(322, 728), (321, 728)], [(314, 648), (314, 648)], [(318, 392), (318, 391)], [(324, 332), (324, 332)], [(324, 409), (324, 408)], [(327, 334), (327, 335)], [(314, 303), (314, 310)], [(329, 648), (328, 648)], [(339, 286), (339, 286)], [(335, 323), (336, 323)], [(335, 652), (334, 652)], [(341, 360), (341, 360)], [(339, 381), (338, 380)], [(344, 350), (344, 350)], [(343, 737), (343, 737)], [(346, 272), (346, 271)], [(340, 344), (340, 344)], [(353, 318), (359, 321)], [(353, 700), (353, 700)], [(359, 327), (359, 324)], [(360, 376), (360, 376)], [(353, 269), (352, 269)], [(360, 276), (360, 277)], [(373, 319), (372, 318)], [(363, 280), (362, 280)], [(367, 681), (366, 681)], [(375, 255), (374, 258)], [(376, 689), (380, 685)], [(382, 318), (384, 324)], [(384, 686), (385, 686)], [(390, 686), (391, 686)], [(388, 325), (388, 326)], [(387, 690), (388, 694)], [(394, 696), (399, 696)], [(407, 340), (407, 340)], [(414, 338), (414, 338)], [(425, 321), (424, 321)], [(428, 315), (428, 315)], [(440, 310), (440, 310)], [(444, 305), (443, 305)], [(447, 304), (447, 304)], [(453, 798), (453, 798)], [(460, 304), (457, 305)], [(474, 807), (474, 807)], [(446, 797), (446, 797)], [(495, 738), (495, 738)], [(497, 282), (496, 282)], [(516, 280), (516, 280)], [(518, 289), (517, 289)], [(519, 751), (518, 751)], [(531, 267), (531, 267)], [(531, 207), (530, 207)], [(532, 280), (532, 280)], [(537, 264), (538, 264)], [(539, 774), (540, 774)], [(552, 263), (552, 262)], [(566, 778), (566, 778)], [(582, 250), (582, 250)], [(586, 843), (586, 843)], [(617, 703), (620, 699)], [(651, 699), (651, 699)], [(662, 700), (662, 700)], [(677, 350), (677, 351)], [(205, 581), (204, 581)], [(216, 424), (216, 424)], [(276, 364), (276, 364)], [(308, 646), (308, 647)], [(307, 637), (306, 637)], [(312, 394), (312, 394)], [(334, 326), (334, 327)], [(382, 337), (382, 337)], [(296, 358), (296, 358)], [(253, 593), (253, 593)], [(273, 619), (273, 619)], [(240, 429), (240, 428)], [(275, 492), (275, 491)], [(257, 580), (256, 580)], [(262, 436), (262, 436)], [(266, 585), (266, 585)], [(288, 430), (288, 430)], [(296, 608), (295, 608)], [(302, 362), (302, 362)], [(310, 635), (310, 635)], [(314, 372), (314, 372)], [(322, 622), (322, 622)], [(327, 632), (327, 632)], [(329, 343), (329, 343)], [(337, 404), (336, 404)], [(343, 353), (343, 353)], [(353, 398), (354, 398)], [(357, 378), (357, 378)], [(365, 272), (364, 272)], [(386, 251), (386, 250)], [(390, 358), (390, 359)], [(414, 331), (413, 331)], [(426, 329), (426, 328)], [(441, 714), (442, 714)], [(496, 749), (495, 749)], [(490, 292), (491, 297)], [(497, 744), (497, 744)], [(520, 278), (520, 278)], [(523, 280), (522, 280)], [(532, 769), (532, 769)], [(548, 773), (548, 773)], [(580, 260), (580, 260)], [(674, 350), (678, 344)], [(290, 606), (290, 606)], [(245, 438), (245, 438)], [(310, 604), (310, 604)], [(356, 385), (356, 386)], [(304, 429), (303, 428)], [(324, 627), (324, 627)], [(438, 706), (438, 706)], [(456, 234), (456, 234)], [(566, 268), (566, 268)], [(660, 712), (659, 708)], [(341, 394), (341, 394)], [(416, 320), (416, 320)], [(481, 735), (481, 735)]]\n",
      "************************************************\n",
      "COMPARE Compare_label/raw_mask_png/19-mask-raw.png  AND Compare_label/predicted_masks/19-mask.png\n"
     ]
    },
    {
     "name": "stdout",
     "output_type": "stream",
     "text": [
      "The number of matched pair is  9  which accounts for  69.23076923076923  percent of accuracy.\n",
      "Precision:  75.0 . Recall:  69.23076923076923\n",
      "Matched pairs are: \n",
      "[[(214, 558), (214, 558)], [(246, 416), (246, 416)], [(270, 388), (270, 388)], [(275, 382), (275, 382)], [(492, 258), (492, 259)], [(509, 781), (510, 780)], [(256, 720), (256, 720)], [(314, 363), (313, 363)], [(503, 831), (503, 830)]]\n",
      "************************************************\n",
      "COMPARE Compare_label/raw_mask_png/18-mask-raw.png  AND Compare_label/predicted_masks/18-mask.png\n",
      "The number of matched pair is  33  which accounts for  56.896551724137936  percent of accuracy.\n",
      "Precision:  89.1891891891892 . Recall:  56.896551724137936\n",
      "Matched pairs are: \n",
      "[[(206, 718), (206, 718)], [(172, 331), (172, 331)], [(214, 721), (214, 721)], [(224, 312), (224, 312)], [(232, 310), (232, 310)], [(267, 714), (267, 714)], [(296, 320), (296, 320)], [(328, 816), (328, 816)], [(318, 266), (319, 266)], [(370, 318), (370, 319)], [(399, 837), (399, 837)], [(412, 837), (412, 837)], [(424, 782), (424, 782)], [(434, 837), (434, 837)], [(468, 791), (468, 791)], [(513, 237), (512, 237)], [(589, 214), (589, 214)], [(591, 713), (591, 713)], [(581, 848), (581, 848)], [(615, 721), (615, 721)], [(623, 356), (623, 356)], [(617, 724), (616, 724)], [(624, 220), (624, 220)], [(630, 352), (630, 352)], [(275, 720), (274, 720)], [(411, 784), (410, 784)], [(168, 327), (168, 327)], [(432, 305), (432, 305)], [(418, 784), (418, 784)], [(446, 304), (446, 304)], [(606, 356), (606, 356)], [(632, 292), (632, 292)], [(628, 343), (628, 344)]]\n",
      "************************************************\n",
      "COMPARE Compare_label/raw_mask_png/13-mask-raw.png  AND Compare_label/predicted_masks/13-mask.png\n",
      "The number of matched pair is  31  which accounts for  73.80952380952381  percent of accuracy.\n",
      "Precision:  50.0 . Recall:  73.80952380952381\n",
      "Matched pairs are: \n",
      "[[(186, 358), (186, 358)], [(255, 530), (255, 531)], [(262, 316), (262, 316)], [(286, 328), (286, 328)], [(294, 313), (294, 313)], [(313, 571), (313, 572)], [(339, 594), (339, 594)], [(359, 270), (359, 270)], [(373, 265), (372, 266)], [(398, 242), (399, 242)], [(412, 234), (412, 234)], [(421, 689), (421, 688)], [(493, 724), (492, 724)], [(497, 204), (497, 204)], [(538, 379), (538, 382)], [(540, 730), (540, 730)], [(546, 360), (546, 360)], [(918, 628), (918, 628)], [(920, 622), (920, 622)], [(538, 727), (538, 727)], [(376, 252), (375, 252)], [(234, 356), (234, 356)], [(297, 459), (297, 459)], [(332, 288), (332, 288)], [(368, 616), (368, 616)], [(418, 680), (418, 680)], [(547, 363), (547, 363)], [(459, 223), (458, 223)], [(545, 368), (545, 368)], [(406, 672), (406, 672)], [(538, 374), (537, 374)]]\n",
      "************************************************\n",
      "COMPARE Compare_label/raw_mask_png/12-mask-raw.png  AND Compare_label/predicted_masks/12-mask.png\n",
      "The number of matched pair is  6  which accounts for  100.0  percent of accuracy.\n",
      "Precision:  100.0 . Recall:  100.0\n",
      "Matched pairs are: \n",
      "[[(288, 714), (288, 714)], [(564, 722), (564, 722)], [(614, 790), (614, 791)], [(385, 768), (384, 768)], [(671, 322), (671, 322)], [(605, 773), (604, 774)]]\n",
      "************************************************\n",
      "COMPARE Compare_label/raw_mask_png/17-mask-raw.png  AND Compare_label/predicted_masks/17-mask.png\n",
      "The number of matched pair is  41  which accounts for  67.21311475409836  percent of accuracy.\n",
      "Precision:  58.57142857142858 . Recall:  67.21311475409836\n",
      "Matched pairs are: \n",
      "[[(196, 667), (196, 667)], [(195, 400), (196, 400)], [(191, 725), (191, 725)], [(197, 671), (197, 671)], [(220, 741), (220, 740)], [(229, 746), (228, 746)], [(262, 666), (262, 665)], [(420, 762), (420, 762)], [(534, 843), (534, 843)], [(547, 848), (547, 848)], [(571, 356), (571, 356)], [(580, 382), (580, 381)], [(586, 357), (585, 357)], [(590, 361), (590, 360)], [(589, 389), (588, 388)], [(596, 734), (596, 734)], [(597, 712), (597, 712)], [(599, 370), (599, 370)], [(597, 392), (596, 392)], [(604, 712), (605, 710)], [(606, 374), (606, 376)], [(606, 729), (606, 729)], [(608, 733), (607, 733)], [(616, 711), (617, 711)], [(618, 715), (618, 714)], [(679, 270), (675, 272)], [(537, 826), (537, 826)], [(178, 715), (178, 714)], [(567, 386), (567, 386)], [(584, 387), (584, 387)], [(589, 385), (589, 385)], [(596, 385), (595, 385)], [(617, 706), (616, 706)], [(606, 386), (606, 386)], [(225, 739), (224, 739)], [(597, 739), (600, 734)], [(638, 242), (638, 242)], [(579, 388), (578, 388)], [(589, 364), (594, 367)], [(455, 828), (454, 828)], [(613, 245), (612, 245)]]\n",
      "************************************************\n",
      "COMPARE Compare_label/raw_mask_png/16-mask-raw.png  AND Compare_label/predicted_masks/16-mask.png\n",
      "The number of matched pair is  16  which accounts for  80.0  percent of accuracy.\n",
      "Precision:  61.53846153846154 . Recall:  80.0\n",
      "Matched pairs are: \n",
      "[[(307, 297), (307, 296)], [(354, 278), (354, 278)], [(630, 656), (630, 656)], [(642, 690), (641, 690)], [(648, 662), (648, 662)], [(650, 677), (649, 676)], [(651, 679), (652, 680)], [(666, 313), (666, 312)], [(648, 684), (648, 684)], [(652, 675), (652, 676)], [(293, 233), (293, 233)], [(617, 651), (616, 650)], [(651, 656), (650, 656)], [(634, 660), (634, 660)], [(324, 292), (324, 292)], [(676, 292), (676, 292)]]\n",
      "************************************************\n",
      "COMPARE Compare_label/raw_mask_png/4-mask-raw.png  AND Compare_label/predicted_masks/4-mask.png\n",
      "The number of matched pair is  37  which accounts for  77.08333333333334  percent of accuracy.\n",
      "Precision:  62.71186440677966 . Recall:  77.08333333333334\n",
      "Matched pairs are: \n",
      "[[(132, 428), (133, 428)], [(168, 372), (167, 372)], [(194, 306), (194, 306)], [(219, 278), (219, 279)], [(241, 265), (242, 264)], [(248, 296), (248, 296)], [(272, 666), (272, 666)], [(323, 715), (322, 714)], [(366, 532), (366, 532)], [(453, 702), (453, 702)], [(511, 785), (511, 785)], [(554, 181), (554, 181)], [(574, 182), (574, 182)], [(579, 813), (578, 812)], [(581, 182), (581, 182)], [(592, 182), (592, 182)], [(597, 321), (597, 321)], [(606, 320), (606, 320)], [(614, 291), (613, 291)], [(621, 298), (622, 298)], [(626, 304), (626, 304)], [(628, 307), (628, 306)], [(633, 307), (632, 306)], [(516, 792), (516, 792)], [(144, 424), (144, 424)], [(207, 564), (207, 563)], [(233, 269), (232, 269)], [(475, 261), (475, 261)], [(578, 186), (578, 186)], [(596, 292), (595, 292)], [(607, 290), (607, 290)], [(623, 322), (622, 322)], [(630, 310), (630, 310)], [(590, 175), (590, 175)], [(600, 292), (600, 292)], [(618, 294), (618, 294)], [(636, 318), (634, 319)]]\n",
      "************************************************\n",
      "COMPARE Compare_label/raw_mask_png/10-mask-raw.png  AND Compare_label/predicted_masks/10-mask.png\n",
      "The number of matched pair is  43  which accounts for  61.42857142857143  percent of accuracy.\n",
      "Precision:  43.0 . Recall:  61.42857142857143\n",
      "Matched pairs are: \n",
      "[[(139, 426), (138, 426)], [(134, 419), (134, 419)], [(149, 568), (148, 568)], [(151, 477), (152, 477)], [(153, 593), (155, 598)], [(155, 610), (154, 610)], [(168, 397), (168, 397)], [(182, 391), (182, 391)], [(156, 466), (156, 466)], [(211, 366), (210, 366)], [(269, 379), (270, 378)], [(278, 396), (278, 396)], [(289, 380), (289, 380)], [(293, 361), (293, 361)], [(299, 369), (299, 369)], [(306, 698), (306, 698)], [(314, 675), (314, 675)], [(316, 352), (316, 351)], [(322, 344), (322, 344)], [(352, 335), (352, 336)], [(342, 697), (342, 697)], [(361, 345), (364, 341)], [(386, 321), (386, 321)], [(498, 284), (498, 284)], [(519, 806), (520, 806)], [(540, 671), (540, 671)], [(557, 752), (557, 752)], [(562, 654), (562, 654)], [(570, 273), (570, 274)], [(560, 808), (560, 808)], [(566, 759), (566, 759)], [(541, 653), (538, 648)], [(155, 582), (155, 582)], [(203, 386), (203, 386)], [(278, 386), (278, 386)], [(340, 348), (340, 348)], [(506, 641), (506, 640)], [(228, 372), (228, 372)], [(293, 393), (293, 393)], [(315, 376), (315, 376)], [(576, 283), (576, 282)], [(446, 292), (446, 292)], [(331, 689), (328, 685)]]\n",
      "************************************************\n",
      "COMPARE Compare_label/raw_mask_png/11-mask-raw.png  AND Compare_label/predicted_masks/11-mask.png\n",
      "The number of matched pair is  47  which accounts for  68.11594202898551  percent of accuracy.\n",
      "Precision:  69.11764705882352 . Recall:  68.11594202898551\n",
      "Matched pairs are: \n",
      "[[(138, 340), (138, 340)], [(152, 708), (157, 706)], [(169, 713), (170, 713)], [(183, 708), (183, 708)], [(189, 720), (190, 721)], [(206, 307), (206, 307)], [(221, 643), (220, 643)], [(230, 742), (229, 746)], [(246, 699), (246, 699)], [(262, 666), (261, 665)], [(318, 728), (310, 728)], [(407, 758), (407, 758)], [(435, 763), (436, 762)], [(450, 824), (450, 824)], [(457, 259), (457, 259)], [(464, 320), (464, 320)], [(534, 843), (534, 843)], [(547, 848), (547, 848)], [(571, 382), (571, 382)], [(583, 374), (583, 374)], [(582, 353), (582, 352)], [(586, 353), (586, 353)], [(598, 385), (598, 386)], [(597, 739), (596, 739)], [(599, 371), (598, 370)], [(606, 374), (605, 373)], [(608, 714), (608, 714)], [(612, 736), (612, 736)], [(616, 726), (616, 726)], [(619, 722), (620, 722)], [(638, 242), (638, 242)], [(679, 270), (679, 270)], [(585, 385), (585, 385)], [(209, 723), (208, 723)], [(470, 772), (470, 772)], [(591, 387), (592, 387)], [(600, 363), (600, 363)], [(607, 733), (607, 733)], [(615, 708), (616, 710)], [(622, 841), (622, 840)], [(259, 759), (258, 758)], [(573, 358), (573, 358)], [(583, 229), (583, 230)], [(610, 232), (610, 232)], [(675, 272), (675, 272)], [(405, 337), (405, 337)], [(618, 716), (618, 715)]]\n",
      "************************************************\n",
      "COMPARE Compare_label/raw_mask_png/8-mask-raw.png  AND Compare_label/predicted_masks/8-mask.png\n"
     ]
    },
    {
     "name": "stdout",
     "output_type": "stream",
     "text": [
      "The number of matched pair is  3  which accounts for  75.0  percent of accuracy.\n",
      "Precision:  75.0 . Recall:  75.0\n",
      "Matched pairs are: \n",
      "[[(296, 290), (296, 290)], [(461, 741), (460, 741)], [(562, 786), (562, 786)]]\n",
      "************************************************\n",
      "COMPARE Compare_label/raw_mask_png/9-mask-raw.png  AND Compare_label/predicted_masks/9-mask.png\n",
      "The number of matched pair is  2  which accounts for  100.0  percent of accuracy.\n",
      "Precision:  66.66666666666666 . Recall:  100.0\n",
      "Matched pairs are: \n",
      "[[(626, 738), (626, 738)], [(663, 722), (662, 722)]]\n",
      "************************************************\n",
      "COMPARE Compare_label/raw_mask_png/2-mask-raw.png  AND Compare_label/predicted_masks/2-mask.png\n",
      "The number of matched pair is  25  which accounts for  54.347826086956516  percent of accuracy.\n",
      "Precision:  73.52941176470588 . Recall:  54.347826086956516\n",
      "Matched pairs are: \n",
      "[[(318, 491), (318, 490)], [(329, 572), (329, 572)], [(350, 459), (350, 458)], [(351, 620), (351, 620)], [(353, 444), (352, 444)], [(355, 631), (355, 631)], [(360, 573), (360, 573)], [(361, 592), (361, 592)], [(365, 580), (364, 580)], [(400, 425), (400, 426)], [(436, 362), (436, 362)], [(455, 694), (455, 694)], [(506, 633), (506, 633)], [(546, 636), (546, 636)], [(597, 768), (598, 768)], [(352, 472), (352, 472)], [(433, 371), (432, 371)], [(321, 675), (320, 674)], [(350, 568), (350, 568)], [(355, 626), (355, 626)], [(381, 638), (380, 638)], [(375, 624), (378, 625)], [(487, 597), (486, 596)], [(452, 356), (451, 356)], [(363, 605), (363, 605)]]\n",
      "************************************************\n",
      "COMPARE Compare_label/raw_mask_png/3-mask-raw.png  AND Compare_label/predicted_masks/3-mask.png\n",
      "The number of matched pair is  21  which accounts for  75.0  percent of accuracy.\n",
      "Precision:  60.0 . Recall:  75.0\n",
      "Matched pairs are: \n",
      "[[(298, 294), (298, 294)], [(333, 270), (333, 270)], [(405, 242), (405, 242)], [(412, 704), (412, 704)], [(422, 704), (416, 703)], [(423, 699), (422, 699)], [(429, 694), (429, 694)], [(450, 740), (450, 740)], [(467, 232), (468, 232)], [(496, 241), (496, 241)], [(508, 742), (508, 743)], [(520, 747), (520, 747)], [(540, 226), (540, 226)], [(520, 224), (520, 224)], [(411, 699), (411, 699)], [(310, 280), (310, 280)], [(422, 251), (422, 251)], [(430, 242), (430, 241)], [(571, 233), (570, 233)], [(394, 694), (394, 694)], [(419, 236), (418, 236)]]\n"
     ]
    }
   ],
   "source": [
    "accuracy_list=[]\n",
    "precision_list=[]\n",
    "recall_list=[]\n",
    "\n",
    "for a,b in zip(raw_masks,predicted_masks):\n",
    "    final_pairs=[]\n",
    "    count=0\n",
    "    match_percentage=0\n",
    "    print('************************************************')\n",
    "    print('COMPARE', a,' AND', b)\n",
    "    final_pairs,count, match_percentage, human_label,machine_label,len_human_label,len_machine_label,precision,recall=stable_pairs(a,b)\n",
    "\n",
    "    print (\"The number of matched pair is \",count,\" which accounts for \", match_percentage,\" percent of accuracy.\" )\n",
    "    print (\"Precision: \",precision, \". Recall: \",recall)\n",
    "    print (\"Matched pairs are: \")\n",
    "    print(final_pairs)\n",
    "    accuracy_list.append(match_percentage)\n",
    "    precision_list.append(precision)\n",
    "    recall_list.append(recall)\n",
    "    \n",
    "    "
   ]
  },
  {
   "cell_type": "code",
   "execution_count": 188,
   "metadata": {},
   "outputs": [],
   "source": [
    "#accuracy_list\n",
    "#avg_acc=sum(accuracy_list)/len(accuracy_list)\n",
    "#avg_acc"
   ]
  },
  {
   "cell_type": "code",
   "execution_count": 190,
   "metadata": {},
   "outputs": [
    {
     "data": {
      "text/plain": [
       "[82.75862068965517,\n",
       " 86.11111111111111,\n",
       " 67.94871794871796,\n",
       " 70.0,\n",
       " 72.22222222222221,\n",
       " 57.34767025089605,\n",
       " 69.23076923076923,\n",
       " 56.896551724137936,\n",
       " 73.80952380952381,\n",
       " 100.0,\n",
       " 67.21311475409836,\n",
       " 80.0,\n",
       " 77.08333333333334,\n",
       " 61.42857142857143,\n",
       " 68.11594202898551,\n",
       " 75.0,\n",
       " 100.0,\n",
       " 54.347826086956516,\n",
       " 75.0]"
      ]
     },
     "execution_count": 190,
     "metadata": {},
     "output_type": "execute_result"
    }
   ],
   "source": [
    "recall_list"
   ]
  },
  {
   "cell_type": "code",
   "execution_count": 191,
   "metadata": {},
   "outputs": [
    {
     "data": {
      "text/plain": [
       "73.39547234836729"
      ]
     },
     "execution_count": 191,
     "metadata": {},
     "output_type": "execute_result"
    }
   ],
   "source": [
    "avg_recall=sum(recall_list)/len(recall_list)\n",
    "avg_recall"
   ]
  },
  {
   "cell_type": "code",
   "execution_count": 193,
   "metadata": {},
   "outputs": [
    {
     "data": {
      "text/plain": [
       "65.53932980138386"
      ]
     },
     "execution_count": 193,
     "metadata": {},
     "output_type": "execute_result"
    }
   ],
   "source": [
    "precision_list\n",
    "precision_avg=sum(precision_list)/len(precision_list)\n",
    "precision_avg"
   ]
  },
  {
   "cell_type": "markdown",
   "metadata": {},
   "source": [
    "### Test on one image"
   ]
  },
  {
   "cell_type": "code",
   "execution_count": 176,
   "metadata": {},
   "outputs": [],
   "source": [
    "final_pairs,count, match_percentage, human_label, machine_label,len_human_label,len_machine_label,precision,recall=stable_pairs('Compare_label/raw_mask_png/9-mask-raw.png','Compare_label/predicted_masks/9-mask.png')\n"
   ]
  },
  {
   "cell_type": "code",
   "execution_count": 177,
   "metadata": {
    "scrolled": true
   },
   "outputs": [
    {
     "name": "stdout",
     "output_type": "stream",
     "text": [
      "Accuracy: 100.0\n",
      "Precision: 100.0\n",
      "Recall: 66.66666666666666\n"
     ]
    }
   ],
   "source": [
    "#human_label YES vs machine_label YES: true positive\n",
    "#human_label YES vs machine_label NO: false positive\n",
    "#human_label NO vs machine_label YES: false negative\n",
    "#Precision=TP/(TP+FP)\n",
    "#Recall=TP/(TP+FN)\n",
    "print(\"Accuracy:\", match_percentage )\n",
    "print(\"Precision:\", precision)\n",
    "print(\"Recall:\", recall)"
   ]
  },
  {
   "cell_type": "code",
   "execution_count": 178,
   "metadata": {},
   "outputs": [
    {
     "data": {
      "text/plain": [
       "[(626, 738), (663, 722), (10000, 10000)]"
      ]
     },
     "execution_count": 178,
     "metadata": {},
     "output_type": "execute_result"
    }
   ],
   "source": [
    "human_label"
   ]
  },
  {
   "cell_type": "code",
   "execution_count": 179,
   "metadata": {},
   "outputs": [
    {
     "data": {
      "text/plain": [
       "[(626, 738), (650, 241), (662, 722)]"
      ]
     },
     "execution_count": 179,
     "metadata": {},
     "output_type": "execute_result"
    }
   ],
   "source": [
    "machine_label"
   ]
  }
 ],
 "metadata": {
  "kernelspec": {
   "display_name": "Python 3",
   "language": "python",
   "name": "python3"
  },
  "language_info": {
   "codemirror_mode": {
    "name": "ipython",
    "version": 3
   },
   "file_extension": ".py",
   "mimetype": "text/x-python",
   "name": "python",
   "nbconvert_exporter": "python",
   "pygments_lexer": "ipython3",
   "version": "3.7.6"
  }
 },
 "nbformat": 4,
 "nbformat_minor": 4
}
